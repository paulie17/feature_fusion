{
 "cells": [
  {
   "cell_type": "code",
   "execution_count": null,
   "metadata": {},
   "outputs": [],
   "source": [
    "from models.model import resnet_features_fusion, model_init\n",
    "from torchviz import make_dot\n",
    "import torch\n",
    "# import matplotlib.pyplot as plt\n",
    "import copy"
   ]
  },
  {
   "cell_type": "code",
   "execution_count": null,
   "metadata": {},
   "outputs": [],
   "source": [
    "extractor = resnet_features_fusion(101, 2, 0.02)\n",
    "before_state_dict = copy.deepcopy(extractor.state_dict())\n",
    "\n",
    "## Debugging print statements\n",
    "\n",
    "## Print model parameters:\n",
    "# for param in segmenter.parameters():\n",
    "#   print(param.data)\n",
    "## Print parameters by accesing the state_dict:\n",
    "# print(\"Initial weights of the first layer: \", before_state_dict)\n",
    "\n",
    "model_init(extractor,101,2)\n",
    "after_state_dict = extractor.state_dict()\n",
    "## Print model parameters after loading the pretrained weights:\n",
    "# for param in pretrained_segmenter.parameters():\n",
    "#   print(param.data)\n",
    "## Print parameters of the updated model by accesing the state_dict:\n",
    "# print(\"Weights of the first layer after loading pretrained weights: \", after_state_dict)\n",
    "\n",
    "# Compare the state_dicts\n",
    "for layer in before_state_dict:\n",
    "    # print(\"Checking layer \" + layer + \" ...\")\n",
    "    if not torch.allclose(before_state_dict[layer], after_state_dict[layer]):\n",
    "        print(f'{layer} has been updated')\n",
    "\n",
    "## Print the name of every single layer in the model\n",
    "# for name, module in extractor.named_children():\n",
    "    # print(name, module)"
   ]
  },
  {
   "cell_type": "code",
   "execution_count": null,
   "metadata": {},
   "outputs": [],
   "source": [
    "for name, module in extractor.named_children():\n",
    "    print(name, module)"
   ]
  },
  {
   "cell_type": "code",
   "execution_count": null,
   "metadata": {},
   "outputs": [],
   "source": [
    "device = torch.device('cuda' if torch.cuda.is_available() else 'cpu')"
   ]
  },
  {
   "cell_type": "code",
   "execution_count": null,
   "metadata": {},
   "outputs": [],
   "source": [
    "extractor.to(device)\n",
    "extractor = torch.nn.DataParallel(extractor, [0])"
   ]
  },
  {
   "cell_type": "code",
   "execution_count": null,
   "metadata": {},
   "outputs": [],
   "source": [
    "color_shape = (1, 3, 320, 320)\n",
    "random_color_tensor = torch.randn(*color_shape,device=device)\n",
    "# plt.imshow(random_color_tensor.squeeze().numpy())"
   ]
  },
  {
   "cell_type": "code",
   "execution_count": null,
   "metadata": {},
   "outputs": [],
   "source": [
    "depth_shape = (1, 3, 320, 320)\n",
    "\n",
    "random_depth_tensor = torch.randn(*depth_shape,device=device)\n",
    "# plt.imshow(random_depth_tensor.squeeze().numpy())"
   ]
  },
  {
   "cell_type": "code",
   "execution_count": null,
   "metadata": {},
   "outputs": [],
   "source": [
    "random_color_tensor.device"
   ]
  },
  {
   "cell_type": "code",
   "execution_count": null,
   "metadata": {},
   "outputs": [],
   "source": [
    "extractor.to(device)\n",
    "# segmenter = torch.nn.DataParallel(segmenter,[0] ,device)"
   ]
  },
  {
   "cell_type": "code",
   "execution_count": null,
   "metadata": {},
   "outputs": [],
   "source": [
    "inputs = [random_color_tensor,random_depth_tensor]\n"
   ]
  },
  {
   "cell_type": "code",
   "execution_count": null,
   "metadata": {},
   "outputs": [],
   "source": [
    "for parameter in extractor.parameters():\n",
    "    device = parameter.device\n",
    "    break\n",
    "\n",
    "print(device)"
   ]
  },
  {
   "cell_type": "code",
   "execution_count": null,
   "metadata": {},
   "outputs": [],
   "source": [
    "out = extractor(inputs)"
   ]
  },
  {
   "cell_type": "code",
   "execution_count": null,
   "metadata": {},
   "outputs": [],
   "source": [
    "out.shape"
   ]
  },
  {
   "cell_type": "code",
   "execution_count": null,
   "metadata": {},
   "outputs": [],
   "source": [
    "make_dot(out)"
   ]
  }
 ],
 "metadata": {
  "kernelspec": {
   "display_name": "fusecorr_env",
   "language": "python",
   "name": "python3"
  },
  "language_info": {
   "codemirror_mode": {
    "name": "ipython",
    "version": 3
   },
   "file_extension": ".py",
   "mimetype": "text/x-python",
   "name": "python",
   "nbconvert_exporter": "python",
   "pygments_lexer": "ipython3",
   "version": "3.10.10"
  },
  "orig_nbformat": 4
 },
 "nbformat": 4,
 "nbformat_minor": 2
}
